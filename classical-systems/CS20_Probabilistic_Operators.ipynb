{
 "cells": [
  {
   "cell_type": "markdown",
   "metadata": {},
   "source": [
    "<a href=\"https://qworld.net\" target=\"_blank\" align=\"left\"><img src=\"../qworld/images/header.jpg\"  align=\"left\"></a>\n",
    "$ \\newcommand{\\bra}[1]{\\langle #1|} $\n",
    "$ \\newcommand{\\ket}[1]{|#1\\rangle} $\n",
    "$ \\newcommand{\\braket}[2]{\\langle #1|#2\\rangle} $\n",
    "$ \\newcommand{\\dot}[2]{ #1 \\cdot #2} $\n",
    "$ \\newcommand{\\biginner}[2]{\\left\\langle #1,#2\\right\\rangle} $\n",
    "$ \\newcommand{\\mymatrix}[2]{\\left( \\begin{array}{#1} #2\\end{array} \\right)} $\n",
    "$ \\newcommand{\\myvector}[1]{\\mymatrix{c}{#1}} $\n",
    "$ \\newcommand{\\myrvector}[1]{\\mymatrix{r}{#1}} $\n",
    "$ \\newcommand{\\mypar}[1]{\\left( #1 \\right)} $\n",
    "$ \\newcommand{\\mybigpar}[1]{ \\Big( #1 \\Big)} $\n",
    "$ \\newcommand{\\sqrttwo}{\\frac{1}{\\sqrt{2}}} $\n",
    "$ \\newcommand{\\dsqrttwo}{\\dfrac{1}{\\sqrt{2}}} $\n",
    "$ \\newcommand{\\onehalf}{\\frac{1}{2}} $\n",
    "$ \\newcommand{\\donehalf}{\\dfrac{1}{2}} $\n",
    "$ \\newcommand{\\hadamard}{ \\mymatrix{rr}{ \\sqrttwo & \\sqrttwo \\\\ \\sqrttwo & -\\sqrttwo }} $\n",
    "$ \\newcommand{\\vzero}{\\myvector{1\\\\0}} $\n",
    "$ \\newcommand{\\vone}{\\myvector{0\\\\1}} $\n",
    "$ \\newcommand{\\stateplus}{\\myvector{ \\sqrttwo \\\\  \\sqrttwo } } $\n",
    "$ \\newcommand{\\stateminus}{ \\myrvector{ \\sqrttwo \\\\ -\\sqrttwo } } $\n",
    "$ \\newcommand{\\myarray}[2]{ \\begin{array}{#1}#2\\end{array}} $\n",
    "$ \\newcommand{\\X}{ \\mymatrix{cc}{0 & 1 \\\\ 1 & 0}  } $\n",
    "$ \\newcommand{\\I}{ \\mymatrix{rr}{1 & 0 \\\\ 0 & 1}  } $\n",
    "$ \\newcommand{\\Z}{ \\mymatrix{rr}{1 & 0 \\\\ 0 & -1}  } $\n",
    "$ \\newcommand{\\Htwo}{ \\mymatrix{rrrr}{ \\frac{1}{2} & \\frac{1}{2} & \\frac{1}{2} & \\frac{1}{2} \\\\ \\frac{1}{2} & -\\frac{1}{2} & \\frac{1}{2} & -\\frac{1}{2} \\\\ \\frac{1}{2} & \\frac{1}{2} & -\\frac{1}{2} & -\\frac{1}{2} \\\\ \\frac{1}{2} & -\\frac{1}{2} & -\\frac{1}{2} & \\frac{1}{2} } } $\n",
    "$ \\newcommand{\\CNOT}{ \\mymatrix{cccc}{1 & 0 & 0 & 0 \\\\ 0 & 1 & 0 & 0 \\\\ 0 & 0 & 0 & 1 \\\\ 0 & 0 & 1 & 0} } $\n",
    "$ \\newcommand{\\norm}[1]{ \\left\\lVert #1 \\right\\rVert } $\n",
    "$ \\newcommand{\\pstate}[1]{ \\lceil \\mspace{-1mu} #1 \\mspace{-1.5mu} \\rfloor } $\n",
    "$ \\newcommand{\\greenbit}[1] {\\mathbf{{\\color{green}#1}}} $\n",
    "$ \\newcommand{\\bluebit}[1] {\\mathbf{{\\color{blue}#1}}} $\n",
    "$ \\newcommand{\\redbit}[1] {\\mathbf{{\\color{red}#1}}} $\n",
    "$ \\newcommand{\\brownbit}[1] {\\mathbf{{\\color{brown}#1}}} $\n",
    "$ \\newcommand{\\blackbit}[1] {\\mathbf{{\\color{black}#1}}} $"
   ]
  },
  {
   "cell_type": "markdown",
   "metadata": {},
   "source": [
    "<font style=\"font-size:28px;\" align=\"left\"><b> Probabilistic Operators </b></font>\n",
    "<br>\n",
    "_prepared by Abuzer Yakaryilmaz_\n",
    "<br>\n",
    "_перевод QRussia_\n",
    "<br><br>\n",
    "[<img src=\"../qworld/images/watch_lecture.jpg\" align=\"left\">](https://youtu.be/zYgym4NVq6o)\n",
    "<br><br><br>"
   ]
  },
  {
   "cell_type": "markdown",
   "metadata": {},
   "source": [
    "Вспомните предвзятые монеты Аси и ее метод (протокол) подбрасывания монет.\n",
    "\n",
    "$\n",
    "GameCoins = \\begin{array}{c|cc} \\hookleftarrow & \\mathbf{Head} & \\mathbf{Tail} \\\\ \\hline \\mathbf{Head} & 0.6 & 0.3\\\\  \\mathbf{Tail} & 0.4 & 0.7  \\end{array} \\equiv \\begin{array}{c|cc} \\hookleftarrow & \\mathbf{0} & \\mathbf{1} \\\\ \\hline \\mathbf{0} & 0.6 & 0.3 \\\\  \\mathbf{1} & 0.4 & 0.7  \\end{array}\n",
    "$"
   ]
  },
  {
   "cell_type": "markdown",
   "metadata": {},
   "source": [
    "Мы отслеживаем результаты Аси после двух подбрасываний монетки.\n",
    "\n",
    "<b> В начале: </b>\n",
    "\n",
    "<i> Вспомним протокол:\n",
    "<ol> \n",
    "    <li> всякий раз, когда ей выпадает орел, она бросает один евро; </li>\n",
    "    <li> всякий раз, когда у нее появляется решка, она бросает один цент; и </li>\n",
    "    <li> она начинает с того, что бросает один евро, предполагая, что на нулевом шаге выпал орел </li>\n",
    "</ol>\n",
    "</i>\n",
    "\n",
    "Она начинает с состояния 0: $ v_0 = \\myvector{1 \\\\ 0} $.\n",
    "\n",
    "Состояние 0 представляет собой Орла, а состояние 1 - Решку."
   ]
  },
  {
   "cell_type": "markdown",
   "metadata": {},
   "source": [
    "<b>После первого подбрасывания монеты:</b>\n",
    "\n",
    "$  \\mypar{ \n",
    "        GameCoins = \\begin{array}{c|cc} \\hookleftarrow & \\mathbf{Head} & \\mathbf{Tail} \\\\ \\hline \\mathbf{Head} & 0.6 & 0.3\\\\  \\mathbf{Tail} & 0.4 & 0.7  \\end{array}\n",
    "        }\n",
    "    \\mypar{\n",
    "        CurrentState=\\myvector{1 \\\\ 0}\n",
    "    } $\n",
    "    \n",
    "Каждая запись нового вектора вычисляется по строке и текущему состоянию:\n",
    "\n",
    "$\n",
    "\\myvector{  0.6 \\cdot 1 \\\\ + \\\\ 0.3 \\cdot 0 \\\\ \\hline 0.4 \\cdot 1 \\\\ + \\\\ 0.7 \\cdot 0  }\n",
    "=\n",
    "\\myvector{ 0.6 + 0 \\\\ 0.4 + 0 }\n",
    "=\n",
    "\\myvector{0.6 \\\\ 0.4}.\n",
    "$"
   ]
  },
  {
   "cell_type": "markdown",
   "metadata": {},
   "source": [
    "<b>После второго подбрасывания монеты:</b>\n",
    "\n",
    "$  \\mypar{ \n",
    "        GameCoins = \\begin{array}{c|cc} \\hookleftarrow & \\mathbf{Head} & \\mathbf{Tail} \\\\ \\hline \\mathbf{Head} & 0.6 & 0.3\\\\  \\mathbf{Tail} & 0.4 & 0.7  \\end{array}\n",
    "        }\n",
    "    \\mypar{\n",
    "        CurrentState=\\myvector{0.6 \\\\ 0.4}\n",
    "    } $\n",
    "    \n",
    "Каждая запись нового вектора вычисляется по строке и текущему состоянию:\n",
    "\n",
    "$\n",
    "\\myvector{  0.6 \\cdot 0.6 \\\\ + \\\\ 0.3 \\cdot 0.4 \\\\ \\hline 0.4 \\cdot 0.6 \\\\ + \\\\ 0.7 \\cdot 0.4  }\n",
    "=\n",
    "\\myvector{ 0.36 + 0.12 \\\\ 0.24 + 0.28 }\n",
    "=\n",
    "\\myvector{0.48 \\\\ 0.52}.\n",
    "$"
   ]
  },
  {
   "cell_type": "markdown",
   "metadata": {},
   "source": [
    "<b>Coin-flipping protocol</b> of Asja is a <i>probabilistic operator</i>.\n",
    "\n",
    "Протокол подбрасывания монеты Аси является вероятностным оператором.\n",
    "\n",
    "Как и любой другой оператор, в зависимости от текущего состояния, протокол подбрасывания монеты Аси определяет следующее состояние.\n",
    "\n",
    "$$\n",
    "    \\myvector{1 \\\\ 0} \\xrightarrow{\\mbox{Asja's coin-flipping protocol}} \\myvector{0.6 \\\\ 0.4}\n",
    "    \\xrightarrow{\\mbox{Asja's coin-flipping protocol}}  \\myvector{0.48 \\\\ 0.52}.\n",
    "$$"
   ]
  },
  {
   "cell_type": "markdown",
   "metadata": {},
   "source": [
    "<font color=\"blue\"><b>Вероятностный оператор переводит систему из вероятностного состояния в другое вероятностное состояние.</b></font>\n",
    "\n",
    "Протокол подбрасывания монет Аси переводит $ \\myvector{ 0.8 \\\\ 0.2 } $ в $ \\myvector{ 0.54 \\\\ 0.46 } $.\n",
    "\n",
    "При расчете нового состояния мы используем таблицу $  GameCoins = \\begin{array}{c|cc} \\hookleftarrow & \\mathbf{Head} & \\mathbf{Tail} \\\\ \\hline \\mathbf{Head} & 0.6 & 0.3\\\\  \\mathbf{Tail} & 0.4 & 0.7  \\end{array} $ и текущее состояние $ \\myvector{ 0.8 \\\\ 0.2 } $:\n",
    "\n",
    "$$\n",
    "    \\myvector{ \\myarray{c}{0.6 \\cdot 0.8 \\\\ + \\\\ 0.3 \\cdot 0.2} \\\\ \\hline \\myarray{c}{0.4 \\cdot 0.8 \\\\ + \\\\ 0.7 \\cdot 0.2} } = \\myvector{ \\myarray{c}{0.48 + 0.06} \\\\ \\myarray{c}{0.32 + 0.14}  } = \\myvector{ 0.54 \\\\ 0.46 }.\n",
    "$$"
   ]
  },
  {
   "cell_type": "markdown",
   "metadata": {},
   "source": [
    "<h3> Вероятностный оператор </h3>\n",
    "\n",
    "Вероятностный оператор может быть представлен в виде квадратной таблицы или матрицы.\n",
    "\n",
    "Элементы вероятностного оператора представляют вероятности перехода между состояниями.\n",
    "\n",
    "Таким образом, <b>каждый элемент является неотрицательной.</b>\n",
    "\n",
    "Каждый столбец представляет вероятности перехода из состояния во все состояния. Следовательно, <b>сумма всех записей в каждом столбце равна 1</b>, т.е. вероятность 1 распределена по всем состояниям.\n",
    "\n",
    "Любая матрица, удовлетворяющая этим двум свойствам, называется <b> стохастической матрицей</b>.\n",
    "\n",
    "Вероятностный оператор - это стохастическая матрица, и наоборот.\n",
    "\n",
    "<i> Отметим, что оператор любой линейной системы представляется в виде матрицы. </i>"
   ]
  },
  {
   "cell_type": "markdown",
   "metadata": {},
   "source": [
    "<h3> Вероятностная эволюция </h3>\n",
    "\n",
    "Вероятностное состояние - это стохастический вектор,  скажем $ v $.\n",
    "\n",
    "Вероятностный оператор - это стохастическая матрица, скажем $ A $,\n",
    "\n",
    "Если вероятностный оператор $ A $ применяется к вероятностному состоянию $ v $, то новое состояние, скажем $v'$, вычисляется как \n",
    "\n",
    "$  v' = A \\cdot v. $\n",
    "\n",
    "<i> Заметим, что эволюция линейной системы представлена матрично-векторным умножением. </i>"
   ]
  },
  {
   "cell_type": "markdown",
   "metadata": {},
   "source": [
    "Если мы представим $ GameCoins $ как матрицу: $ \\mymatrix{cc}{ 0.6 & 0.3 \\\\ 0.4 & 0.7 } $, тогда новое вероятностное состояние вычисляется как\n",
    "\n",
    "$\n",
    "    \\myvector{ 0.54 \\\\ 0.46 } = \\mymatrix{cc}{ 0.6 & 0.3 \\\\ 0.4 & 0.7 } \\myvector{ 0.8 \\\\ 0.2 }.\n",
    "$"
   ]
  },
  {
   "cell_type": "markdown",
   "metadata": {},
   "source": [
    "<h3> Task 1 </h3>\n",
    "\n",
    "Оператор $ GameCoins = \\mymatrix{cc}{ 0.6 & 0.3 \\\\ 0.4 & 0.7 } $ применяется к вероятносному состоянию $ \\myvector{ 0.1 \\\\ 0.9 } $. \n",
    "\n",
    "Тогда новое состояние находится так:\n",
    "\n",
    "$ \\mymatrix{cc}{ 0.6 & 0.3 \\\\ 0.4 & 0.7 } \\myvector{ 0.1 \\\\ 0.9 } = \\myvector{ 0.33 \\\\ 0.67 }. $\n",
    "\n",
    "Проверьте корректность перемножения матрицы на вектор."
   ]
  },
  {
   "cell_type": "markdown",
   "metadata": {},
   "source": [
    "<h3> Task 2 </h3>\n",
    "\n",
    "Нам дан следующий вероятностный оператор: $ B =  \\mymatrix{ccc}{ 0.4 & 0.6 & 0 \\\\ 0.2 & 0.1 & 0.7 \\\\ 0.4 & 0.3 & 0.3 } $.\n",
    "\n",
    "Какова вероятность перехода из второго состояния в третье?\n",
    "\n",
    "Какова вероятность перехода из третьего состояния в первое?\n",
    "\n",
    "Какова вероятность перехода из первого состояния во второе?"
   ]
  },
  {
   "cell_type": "markdown",
   "metadata": {},
   "source": [
    "<a href=\"CS20_Probabilistic_Operators_Solutions.ipynb#task2\">click for our solution</a>"
   ]
  },
  {
   "cell_type": "markdown",
   "metadata": {},
   "source": [
    "<h3>Task 3</h3>\n",
    "\n",
    "Случайным образом постройте $ (3 \\times 3 ) $-мерный вероятностный оператор.\n",
    "\n",
    "Случайным образом определите элементы матрицы, представляющей вероятностный оператор."
   ]
  },
  {
   "cell_type": "code",
   "execution_count": null,
   "metadata": {},
   "outputs": [],
   "source": [
    "#\n",
    "# your solution is here\n",
    "#\n"
   ]
  },
  {
   "cell_type": "markdown",
   "metadata": {},
   "source": [
    "<a href=\"CS20_Probabilistic_Operators_Solutions.ipynb#task3\">click for our solution</a>"
   ]
  },
  {
   "cell_type": "markdown",
   "metadata": {},
   "source": [
    "<h3> Task 4 </h3>\n",
    "\n",
    "Каково новое вероятностное состояние, если оператор $ B =  \\mymatrix{ccc}{ 0.4 & 0.6 & 0 \\\\ 0.2 & 0.1 & 0.7 \\\\ 0.4 & 0.3 & 0.3 } $ применяется к этому состоянию $ \\myvector{ 0.1 \\\\ 0.3 \\\\ 0.6 } $.\n",
    "\n",
    "Пожалуйста, найдите результат, используя матрично-векторное умножение.\n",
    "\n",
    "Пожалуйста, не используйте какие-либо библиотеки python для матрично-векторного умножения.\n",
    "\n",
    "<i> Новое вероятностное состояние должно быть $ \\myvector{0.22 \\\\ 0.47 \\\\ 0.31} $. </i>"
   ]
  },
  {
   "cell_type": "code",
   "execution_count": null,
   "metadata": {},
   "outputs": [],
   "source": [
    "# operator B\n",
    "B = [\n",
    "    [0.4,0.6,0],\n",
    "    [0.2,0.1,0.7],\n",
    "    [0.4,0.3,0.3]\n",
    "]\n",
    "\n",
    "# the current state\n",
    "v = [0.1,0.3,0.6]\n",
    "\n",
    "#\n",
    "# your solution is here\n",
    "#"
   ]
  },
  {
   "cell_type": "markdown",
   "metadata": {},
   "source": [
    "<a href=\"CS20_Probabilistic_Operators_Solutions.ipynb#task4\">click for our solution</a>"
   ]
  },
  {
   "cell_type": "markdown",
   "metadata": {},
   "source": [
    "<h3> Task 5 </h3>\n",
    "\n",
    "Напишите функцию, которая принимает вероятностный оператор и вероятностное состояние, а затем возвращает новое вероятностное состояние.\n",
    "\n",
    "Нельзя использовать библиотеки python для матрично-векторного умножения.\n",
    "\n",
    "Ваша функция должна работать для любого измерения.\n",
    "\n",
    "Сохраните вашу функцию для дальнейшего использования:\n",
    "<br>\n",
    "<div style=\"background-color:#f8f8f8;\">\n",
    "<b><u>Запишите содержимое ячейки кода</u></b> во внешний файл:\n",
    "    \n",
    "    %%writefile linear_evolve.py\n",
    "Эта команда должна быть помещена в первую строку ячейки, после чего ячейка должна быть выполнена.\n",
    "</div>\n",
    "\n",
    "Протестируйте свою функцию на $ \\mymatrix{ccc}{ 0.4 & 0.6 & 0 \\\\ 0.2 & 0.1 & 0.7 \\\\ 0.4 & 0.3 & 0.3 } $ и $ \\myvector{0.1 \\\\ 0.3 \\\\ 0.6} $. \n",
    "\n",
    "Новое вероятностное состояние должно быть $ \\myvector{0.22 \\\\ 0.47 \\\\ 0.31} $.\n",
    "\n",
    "Затем разработайте свою систему для 5, 10, 20 и 40 шагов.\n",
    "\n",
    "Эта система должна эволюционировать до фиксированного вероятностного состояния.\n",
    "\n",
    "Измените свое начальное состояние на $ \\myvector{1 \\\\ 0 \\\\ 0} $, и посмотрите, является ли конвергентное состояние тем же самым или нет."
   ]
  },
  {
   "cell_type": "code",
   "execution_count": null,
   "metadata": {},
   "outputs": [],
   "source": [
    "# %%writefile linear_evolve.py"
   ]
  },
  {
   "cell_type": "code",
   "execution_count": null,
   "metadata": {},
   "outputs": [],
   "source": [
    "# run your script\n",
    "# %run linear_evolve.py\n",
    "\n",
    "# operator for the test\n",
    "B = [\n",
    "    [0.4,0.6,0],\n",
    "    [0.2,0.1,0.7],\n",
    "    [0.4,0.3,0.3]\n",
    "]\n",
    "\n",
    "# state for test\n",
    "v = [0.1,0.3,0.6]\n",
    "\n",
    "#\n",
    "# your solution is here\n",
    "#\n"
   ]
  },
  {
   "cell_type": "markdown",
   "metadata": {},
   "source": [
    "<a href=\"CS20_Probabilistic_Operators_Solutions.ipynb#task4\">click for our solution</a>"
   ]
  },
  {
   "cell_type": "markdown",
   "metadata": {},
   "source": [
    "---\n",
    "\n",
    "<h3> Extra: Task 6 </h3>\n",
    "\n",
    "Оператор $ \\widetilde{I} = \\mymatrix{cc}{0.999 & 0.001\\\\ 0.001 & 0.999 } $ очень похож на оператор Тождественности (Identity). Однако, она сходится к определенной матрице.\n",
    "\n",
    "Найдите $  \\underbrace{\\widetilde{I} \\cdot \\widetilde{I} \\cdots \\widetilde{I}}_{k\\mbox{ times}} $ для $ k = 10, 100, 1000, 10000, 100000 $ и определите матрицу, к которой сходится $ \\widetilde{I} $."
   ]
  },
  {
   "cell_type": "markdown",
   "metadata": {},
   "source": [
    "<h3> Extra: Task 7 </h3>\n",
    "\n",
    "Повторите Task 6 для оператора $ \\widetilde{NOT} = \\mymatrix{cc}{0.001 & 0.999\\\\ 0.999 & 0.001 } $."
   ]
  }
 ],
 "metadata": {
  "kernelspec": {
   "display_name": "Python 3",
   "language": "python",
   "name": "python3"
  },
  "language_info": {
   "codemirror_mode": {
    "name": "ipython",
    "version": 3
   },
   "file_extension": ".py",
   "mimetype": "text/x-python",
   "name": "python",
   "nbconvert_exporter": "python",
   "pygments_lexer": "ipython3",
   "version": "3.7.1"
  }
 },
 "nbformat": 4,
 "nbformat_minor": 2
}
