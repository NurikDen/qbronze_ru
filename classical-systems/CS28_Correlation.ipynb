{
 "cells": [
  {
   "cell_type": "markdown",
   "metadata": {},
   "source": [
    "<a href=\"https://qworld.net\" target=\"_blank\" align=\"left\"><img src=\"../qworld/images/header.jpg\"  align=\"left\"></a>\n",
    "$ \\newcommand{\\bra}[1]{\\langle #1|} $\n",
    "$ \\newcommand{\\ket}[1]{|#1\\rangle} $\n",
    "$ \\newcommand{\\braket}[2]{\\langle #1|#2\\rangle} $\n",
    "$ \\newcommand{\\dot}[2]{ #1 \\cdot #2} $\n",
    "$ \\newcommand{\\biginner}[2]{\\left\\langle #1,#2\\right\\rangle} $\n",
    "$ \\newcommand{\\mymatrix}[2]{\\left( \\begin{array}{#1} #2\\end{array} \\right)} $\n",
    "$ \\newcommand{\\myvector}[1]{\\mymatrix{c}{#1}} $\n",
    "$ \\newcommand{\\myrvector}[1]{\\mymatrix{r}{#1}} $\n",
    "$ \\newcommand{\\mypar}[1]{\\left( #1 \\right)} $\n",
    "$ \\newcommand{\\mybigpar}[1]{ \\Big( #1 \\Big)} $\n",
    "$ \\newcommand{\\sqrttwo}{\\frac{1}{\\sqrt{2}}} $\n",
    "$ \\newcommand{\\dsqrttwo}{\\dfrac{1}{\\sqrt{2}}} $\n",
    "$ \\newcommand{\\onehalf}{\\frac{1}{2}} $\n",
    "$ \\newcommand{\\donehalf}{\\dfrac{1}{2}} $\n",
    "$ \\newcommand{\\hadamard}{ \\mymatrix{rr}{ \\sqrttwo & \\sqrttwo \\\\ \\sqrttwo & -\\sqrttwo }} $\n",
    "$ \\newcommand{\\vzero}{\\myvector{1\\\\0}} $\n",
    "$ \\newcommand{\\vone}{\\myvector{0\\\\1}} $\n",
    "$ \\newcommand{\\stateplus}{\\myvector{ \\sqrttwo \\\\  \\sqrttwo } } $\n",
    "$ \\newcommand{\\stateminus}{ \\myrvector{ \\sqrttwo \\\\ -\\sqrttwo } } $\n",
    "$ \\newcommand{\\myarray}[2]{ \\begin{array}{#1}#2\\end{array}} $\n",
    "$ \\newcommand{\\X}{ \\mymatrix{cc}{0 & 1 \\\\ 1 & 0}  } $\n",
    "$ \\newcommand{\\I}{ \\mymatrix{rr}{1 & 0 \\\\ 0 & 1}  } $\n",
    "$ \\newcommand{\\Z}{ \\mymatrix{rr}{1 & 0 \\\\ 0 & -1}  } $\n",
    "$ \\newcommand{\\Htwo}{ \\mymatrix{rrrr}{ \\frac{1}{2} & \\frac{1}{2} & \\frac{1}{2} & \\frac{1}{2} \\\\ \\frac{1}{2} & -\\frac{1}{2} & \\frac{1}{2} & -\\frac{1}{2} \\\\ \\frac{1}{2} & \\frac{1}{2} & -\\frac{1}{2} & -\\frac{1}{2} \\\\ \\frac{1}{2} & -\\frac{1}{2} & -\\frac{1}{2} & \\frac{1}{2} } } $\n",
    "$ \\newcommand{\\CNOT}{ \\mymatrix{cccc}{1 & 0 & 0 & 0 \\\\ 0 & 1 & 0 & 0 \\\\ 0 & 0 & 0 & 1 \\\\ 0 & 0 & 1 & 0} } $\n",
    "$ \\newcommand{\\norm}[1]{ \\left\\lVert #1 \\right\\rVert } $\n",
    "$ \\newcommand{\\pstate}[1]{ \\lceil \\mspace{-1mu} #1 \\mspace{-1.5mu} \\rfloor } $\n",
    "$ \\newcommand{\\greenbit}[1] {\\mathbf{{\\color{green}#1}}} $\n",
    "$ \\newcommand{\\bluebit}[1] {\\mathbf{{\\color{blue}#1}}} $\n",
    "$ \\newcommand{\\redbit}[1] {\\mathbf{{\\color{red}#1}}} $\n",
    "$ \\newcommand{\\brownbit}[1] {\\mathbf{{\\color{brown}#1}}} $\n",
    "$ \\newcommand{\\blackbit}[1] {\\mathbf{{\\color{black}#1}}} $"
   ]
  },
  {
   "cell_type": "markdown",
   "metadata": {},
   "source": [
    "<font style=\"font-size:28px;\" align=\"left\"><b> Correlation </b></font>\n",
    "<br>\n",
    "_prepared by Abuzer Yakaryilmaz_\n",
    "<br>\n",
    "_перевод QRussia_\n",
    "<br><br>\n",
    "[<img src=\"../qworld/images/watch_lecture.jpg\" align=\"left\">](https://youtu.be/gI9pJaX7NMc)\n",
    "<br><br><br>"
   ]
  },
  {
   "cell_type": "markdown",
   "metadata": {},
   "source": [
    "Начнем с объяснения (автор - Даниэль Рейтцнер).\n",
    "\n",
    "Наш отец готовит обеды для меня и моей сестры. Он кладет в наши коробки либо макароны, либо салат с кускусом.\n",
    "\n",
    "Пока мы не откроем коробки, мы не будем знать свой обед. Но как только я открою свою коробку, я узнаю обед своей сестры, и наоборот.\n",
    "\n",
    "Это называется <i>корреляцией</i>."
   ]
  },
  {
   "cell_type": "markdown",
   "metadata": {},
   "source": [
    "Теперь мы перейдем к более формальному объяснению.\n",
    "\n",
    "У Аси есть один евро, а у Балвиса - один цент.\n",
    "\n",
    "Обе монеты честные, и мы не видим их монет. \n",
    "\n",
    "Они начинает с  \"орла\" (состояние 0): $ \\vzero $ and $ \\vzero $, respectively.\n",
    "<br>\n",
    "Ася подбрасывает монету один раз. Тогда вероятностные состояния Асьи и Балвиса: $ \\myvector{\\frac{1}{2} \\\\ \\frac{1}{2}} $ и $ \\myvector{1 \\\\ 0} $, соответственно."
   ]
  },
  {
   "cell_type": "markdown",
   "metadata": {},
   "source": [
    "<h3> Task 1</h3>\n",
    "\n",
    "Рассчитайте состояние составной системы."
   ]
  },
  {
   "cell_type": "markdown",
   "metadata": {},
   "source": [
    "<a href=\"CS28_Correlation_Solutions.ipynb#task1\">click for our solution</a>"
   ]
  },
  {
   "cell_type": "markdown",
   "metadata": {},
   "source": [
    "Они применяют к своим монетам оператор Controlled-NOT, который оперирует двумя битами:\n",
    "\n",
    "$$\n",
    "    CNOT = \\CNOT.\n",
    "$$\n",
    "\n",
    "<i> Эффект CNOT заключается в том, что если состояние первого бита равно 1, то значение второго бита переворачивается.\n",
    "\n",
    "Здесь первый бит - управляющий (control), а второй - целевой (target).</i>\n",
    "\n",
    "Используя базисные состояния:\n",
    "<ul style=\"font-size:16px;\">\n",
    "    <li>$CNOT \\pstate{00} = \\pstate{00}$</li>\n",
    "    <li>$CNOT \\pstate{01} = \\pstate{01}$</li>\n",
    "    <li>$CNOT \\pstate{\\mathbf{\\color{red}{1}\\color{blue}{0}}} = \\pstate{\\mathbf{\\color{red}{1}\\color{blue}{1}}} $</li>\n",
    "    <li>$CNOT \\pstate{\\mathbf{\\color{red}{1}\\color{blue}{1}}} = \\pstate{\\mathbf{\\color{red}{1}\\color{blue}{0}}} $</li>\n",
    "</ul>\n",
    "    \n"
   ]
  },
  {
   "cell_type": "markdown",
   "metadata": {},
   "source": [
    "<h3> Task 2</h3>\n",
    "\n",
    "Убедитесь, что состояние составной системы $ \\frac{1}{2} \\pstate{00} + \\frac{1}{2} \\pstate{11} $ после применения оператора CNOT."
   ]
  },
  {
   "cell_type": "markdown",
   "metadata": {},
   "source": [
    "<a href=\"CS28_Correlation_Solutions.ipynb#task2\">click for our solution</a>"
   ]
  },
  {
   "cell_type": "markdown",
   "metadata": {},
   "source": [
    "<h3> Task 3 </h3>\n",
    "\n",
    "<b>Обсуждение и анализ:</b>\n",
    "\n",
    "Предположим, что Ася и Балвис отделяются друг от друга, не меняя своих состояний. \n",
    "\n",
    "Если мы видим монету Аси, то можем ли мы угадать состояние монеты Балвиса, и наоборот? \n",
    "\n",
    "Если да, то можно сказать, что оба бита коррелируют друг с другом."
   ]
  },
  {
   "cell_type": "markdown",
   "metadata": {},
   "source": [
    "<h3>Коррелированные системы</h3>\n",
    "\n",
    "Если состояние составной системы не может быть записано как тензорное произведение состояний ее подсистем, то можно сказать, что подсистемы коррелированы."
   ]
  },
  {
   "cell_type": "markdown",
   "metadata": {},
   "source": [
    "<h3> Task 4 </h3>\n",
    "\n",
    "Покажите, что невозможно написать $ \\myvector{ \\frac{1}{2} \\\\ 0 \\\\ 0 \\\\ \\frac{1}{2} } $ как $ \\myvector{a\\\\b} \\otimes \\myvector{c\\\\d} $ для некоторых чисел $ a,b,c,$ и $d $.\n",
    "\n",
    "<i>Заметим, что корреляция в общем случае может быть показана не так просто, как в этом базовом примере. </i>"
   ]
  },
  {
   "cell_type": "markdown",
   "metadata": {},
   "source": [
    "<a href=\"CS28_Correlation_Solutions.ipynb#task4\">click for our solution</a>"
   ]
  },
  {
   "cell_type": "markdown",
   "metadata": {},
   "source": [
    "<h3> Корреляция с более чем двумя битами</h3>\n",
    "\n",
    "У Кюри есть 50 центов в состоянии 0. \n",
    "\n",
    "Тогда состояние составной системы, определяемой этими тремя монетами, будет \n",
    "\n",
    "$ \\mypar{ \\frac{1}{2} \\pstate{00} + \\frac{1}{2} \\pstate{11}  } \\otimes \\pstate{0} = \n",
    "\\frac{1}{2} \\pstate{000} + \\frac{1}{2} \\pstate{110} $.\n",
    "\n",
    "Что произойдет, если оператор CNOT применить к монете Аси и монете Кюри, где монета Аси - контрольная, а монета Кюри - целевая?\n",
    "\n",
    "CNOT - это оператор, определенный для двух битов. Таким образом, он может быть применен к любой паре битов. \n",
    "\n",
    "В этом случае значение любого другого бита в составленной системе не меняется.\n",
    "\n",
    "Может возникнуть вопрос, как выглядит его матричная форма, определенная на трех битах."
   ]
  },
  {
   "cell_type": "markdown",
   "metadata": {},
   "source": [
    "<h3> Task 5 </h3>\n",
    "\n",
    "Убедитесь, что оператор CNOT, примененный к монетам Аси и Кюри, как описано выше, отображает базисные состояния следующим образом:\n",
    "<ul>\n",
    "    <li> $ \\pstate{000} \\rightarrow \\pstate{000} $ </li>\n",
    "    <li> $ \\pstate{001} \\rightarrow \\pstate{001} $ </li>\n",
    "    <li> $ \\pstate{010} \\rightarrow \\pstate{010} $ </li>\n",
    "    <li> $ \\pstate{011} \\rightarrow \\pstate{011} $ </li>\n",
    "    <li> $ \\pstate{ \\mathbf{\\color{red}{1}} 0  \\mathbf{\\color{blue}{0}} } \\rightarrow \\pstate{ \\mathbf{\\color{red}{1}} 0  \\mathbf{\\color{blue}{1}} }  $ </li>\n",
    "    <li> $ \\pstate{ \\mathbf{\\color{red}{1}} 0  \\mathbf{\\color{blue}{1}} } \\rightarrow \\pstate{ \\mathbf{\\color{red}{1}} 0  \\mathbf{\\color{blue}{0}} }  $ </li>\n",
    "    <li> $ \\pstate{ \\mathbf{\\color{red}{1}} 1  \\mathbf{\\color{blue}{0}} } \\rightarrow \\pstate{ \\mathbf{\\color{red}{1}} 1  \\mathbf{\\color{blue}{1}} }  $ </li>\n",
    "    <li> $ \\pstate{ \\mathbf{\\color{red}{1}} 1  \\mathbf{\\color{blue}{1}} } \\rightarrow \\pstate{ \\mathbf{\\color{red}{1}} 1  \\mathbf{\\color{blue}{0}} }  $ </li>\n",
    "</ul>"
   ]
  },
  {
   "cell_type": "markdown",
   "metadata": {},
   "source": [
    "<h3> Task 6 </h3>\n",
    "\n",
    "Убедитесь, что описанный в Task 5 оператор имеет следующий матричный вид:\n",
    "\n",
    "$$\n",
    "    \\mymatrix{cccc|cccc} {\n",
    "     \\mathbf{1} & 0 & 0 & 0 & 0 & 0 & 0 & 0 \\\\\n",
    "     0 & \\mathbf{1} & 0 & 0 & 0 & 0 & 0 & 0 \\\\\n",
    "     0 & 0 & \\mathbf{1} & 0 & 0 & 0 & 0 & 0 \\\\\n",
    "     0 & 0 & 0 & \\mathbf{1} & 0 & 0 & 0 & 0 \\\\      \n",
    "     \\hline\n",
    "     0 & 0 & 0 & 0 & 0 & \\mathbf{1} & 0 & 0 \\\\\n",
    "     0 & 0 & 0 & 0 & \\mathbf{1} & 0 & 0 & 0 \\\\\n",
    "     0 & 0 & 0 & 0 & 0 & 0 & 0 & \\mathbf{1} \\\\\n",
    "     0 & 0 & 0 & 0 & 0 & 0 & \\mathbf{1} & 0 \\\\\n",
    "    }\n",
    "$$"
   ]
  },
  {
   "cell_type": "markdown",
   "metadata": {},
   "source": [
    "<h3> Task 7 </h3>\n",
    "\n",
    "Вычислите новое состояние составленной системы, определенное по трем битам после оператора CNOT, определенного в Task 5 или Task 6.\n",
    "\n",
    "$ \\frac{1}{2} \\pstate{000} + \\frac{1}{2} \\pstate{110} \\rightarrow ? $"
   ]
  },
  {
   "cell_type": "markdown",
   "metadata": {},
   "source": [
    "<a href=\"CS28_Correlation_Solutions.ipynb#task7\">click for our solution</a>"
   ]
  },
  {
   "cell_type": "markdown",
   "metadata": {},
   "source": [
    "<h3> Task 8 </h3>\n",
    "\n",
    "Предположим, что Дарья имеет 10 центов в состоянии 1, и ее монета также комбинирована с составной системой.\n",
    "\n",
    "Каково состояние новой составной системы?\n",
    "\n",
    "Затем оператор CNOT применяется к монете Кюри и монете Дарьи, где монета Кюри является контрольным битом.\n",
    "\n",
    "Каково новое состояние составной системы после этого оператора CNOT?\n",
    "\n",
    "<i>Обратите внимание, что корреляция с новым битом может быть создана путем применения CNOT-гейта между любым битом, уже находящимся в корреляции, и новым битом, где новый бит является целевым.</i>"
   ]
  },
  {
   "cell_type": "markdown",
   "metadata": {},
   "source": [
    "<a href=\"CS28_Correlation_Solutions.ipynb#task8\">click for our solution</a>"
   ]
  }
 ],
 "metadata": {
  "kernelspec": {
   "display_name": "Python 3 (ipykernel)",
   "language": "python",
   "name": "python3"
  },
  "language_info": {
   "codemirror_mode": {
    "name": "ipython",
    "version": 3
   },
   "file_extension": ".py",
   "mimetype": "text/x-python",
   "name": "python",
   "nbconvert_exporter": "python",
   "pygments_lexer": "ipython3",
   "version": "3.11.6"
  }
 },
 "nbformat": 4,
 "nbformat_minor": 4
}
