{
 "cells": [
  {
   "cell_type": "markdown",
   "metadata": {},
   "source": [
    "<a href=\"https://qworld.net\" target=\"_blank\" align=\"left\"><img src=\"../qworld/images/header.jpg\"  align=\"left\"></a>\n",
    "$ \\newcommand{\\bra}[1]{\\langle #1|} $\n",
    "$ \\newcommand{\\ket}[1]{|#1\\rangle} $\n",
    "$ \\newcommand{\\braket}[2]{\\langle #1|#2\\rangle} $\n",
    "$ \\newcommand{\\dot}[2]{ #1 \\cdot #2} $\n",
    "$ \\newcommand{\\biginner}[2]{\\left\\langle #1,#2\\right\\rangle} $\n",
    "$ \\newcommand{\\mymatrix}[2]{\\left( \\begin{array}{#1} #2\\end{array} \\right)} $\n",
    "$ \\newcommand{\\myvector}[1]{\\mymatrix{c}{#1}} $\n",
    "$ \\newcommand{\\myrvector}[1]{\\mymatrix{r}{#1}} $\n",
    "$ \\newcommand{\\mypar}[1]{\\left( #1 \\right)} $\n",
    "$ \\newcommand{\\mybigpar}[1]{ \\Big( #1 \\Big)} $\n",
    "$ \\newcommand{\\sqrttwo}{\\frac{1}{\\sqrt{2}}} $\n",
    "$ \\newcommand{\\dsqrttwo}{\\dfrac{1}{\\sqrt{2}}} $\n",
    "$ \\newcommand{\\onehalf}{\\frac{1}{2}} $\n",
    "$ \\newcommand{\\donehalf}{\\dfrac{1}{2}} $\n",
    "$ \\newcommand{\\hadamard}{ \\mymatrix{rr}{ \\sqrttwo & \\sqrttwo \\\\ \\sqrttwo & -\\sqrttwo }} $\n",
    "$ \\newcommand{\\vzero}{\\myvector{1\\\\0}} $\n",
    "$ \\newcommand{\\vone}{\\myvector{0\\\\1}} $\n",
    "$ \\newcommand{\\stateplus}{\\myvector{ \\sqrttwo \\\\  \\sqrttwo } } $\n",
    "$ \\newcommand{\\stateminus}{ \\myrvector{ \\sqrttwo \\\\ -\\sqrttwo } } $\n",
    "$ \\newcommand{\\myarray}[2]{ \\begin{array}{#1}#2\\end{array}} $\n",
    "$ \\newcommand{\\X}{ \\mymatrix{cc}{0 & 1 \\\\ 1 & 0}  } $\n",
    "$ \\newcommand{\\I}{ \\mymatrix{rr}{1 & 0 \\\\ 0 & 1}  } $\n",
    "$ \\newcommand{\\Z}{ \\mymatrix{rr}{1 & 0 \\\\ 0 & -1}  } $\n",
    "$ \\newcommand{\\Htwo}{ \\mymatrix{rrrr}{ \\frac{1}{2} & \\frac{1}{2} & \\frac{1}{2} & \\frac{1}{2} \\\\ \\frac{1}{2} & -\\frac{1}{2} & \\frac{1}{2} & -\\frac{1}{2} \\\\ \\frac{1}{2} & \\frac{1}{2} & -\\frac{1}{2} & -\\frac{1}{2} \\\\ \\frac{1}{2} & -\\frac{1}{2} & -\\frac{1}{2} & \\frac{1}{2} } } $\n",
    "$ \\newcommand{\\CNOT}{ \\mymatrix{cccc}{1 & 0 & 0 & 0 \\\\ 0 & 1 & 0 & 0 \\\\ 0 & 0 & 0 & 1 \\\\ 0 & 0 & 1 & 0} } $\n",
    "$ \\newcommand{\\norm}[1]{ \\left\\lVert #1 \\right\\rVert } $\n",
    "$ \\newcommand{\\pstate}[1]{ \\lceil \\mspace{-1mu} #1 \\mspace{-1.5mu} \\rfloor } $\n",
    "$ \\newcommand{\\greenbit}[1] {\\mathbf{{\\color{green}#1}}} $\n",
    "$ \\newcommand{\\bluebit}[1] {\\mathbf{{\\color{blue}#1}}} $\n",
    "$ \\newcommand{\\redbit}[1] {\\mathbf{{\\color{red}#1}}} $\n",
    "$ \\newcommand{\\brownbit}[1] {\\mathbf{{\\color{brown}#1}}} $\n",
    "$ \\newcommand{\\blackbit}[1] {\\mathbf{{\\color{black}#1}}} $"
   ]
  },
  {
   "cell_type": "markdown",
   "metadata": {},
   "source": [
    "<font style=\"font-size:28px;\" align=\"left\"><b> <font color=\"blue\"> Solutions for </font>Correlation </b></font>\n",
    "<br>\n",
    "_prepared by Abuzer Yakaryilmaz_\n",
    "<br>\n",
    "_перевод QRussia_\n",
    "<br><br>"
   ]
  },
  {
   "cell_type": "markdown",
   "metadata": {},
   "source": [
    "<a id=\"task1\"></a>\n",
    "<h3> Task 1 </h3>\n",
    "\n",
    "Рассчитайте состояние составной системы."
   ]
  },
  {
   "cell_type": "markdown",
   "metadata": {},
   "source": [
    "<h3>Solution</h3>\n",
    "\n",
    "Вероятностные состояния Аси и Балвиса $ \\myvector{\\frac{1}{2} \\\\ \\frac{1}{2}} $ и $ \\myvector{1 \\\\ 0} $, соответственно.\n",
    "\n",
    "Состояние составной системы $ \\myvector{\\frac{1}{2} \\\\ \\frac{1}{2}} \\otimes \\myvector{1 \\\\ 0} = \\myvector{\\frac{1}{2} \\myvector{1 \\\\ 0} \\\\ \\frac{1}{2} \\myvector{1 \\\\ 0} } = \\myvector{\\frac{1}{2} \\\\ 0 \\\\ \\frac{1}{2} \\\\ 0 } = \\frac{1}{2} \\pstate{00} + \\frac{1}{2} \\pstate{10}  $."
   ]
  },
  {
   "cell_type": "markdown",
   "metadata": {},
   "source": [
    "<a id=\"task2\"></a>\n",
    "<h3> Task 2 </h3>\n",
    "\n",
    "Убедитесь, что состояние составной системы равен $ \\frac{1}{2} \\pstate{00} + \\frac{1}{2} \\pstate{11} $ после применения оператора CNOT."
   ]
  },
  {
   "cell_type": "markdown",
   "metadata": {},
   "source": [
    "<h3>Solution</h3>\n",
    "\n",
    "$ CNOT \\big( \\frac{1}{2} \\pstate{00} + \\frac{1}{2} \\pstate{10} \\big) = CNOT  \\frac{1}{2} \\pstate{00} + CNOT \\frac{1}{2} \\pstate{10} = \\frac{1}{2} \\pstate{00} + \\frac{1}{2} \\pstate{11}  $.\n",
    "\n",
    "Или иначе,\n",
    "\n",
    "$ \\CNOT  \\myvector{\\frac{1}{2} \\\\ 0 \\\\ \\frac{1}{2} \\\\ 0 } =  \\myvector{\\frac{1}{2} \\\\ 0 \\\\ 0 \\\\ \\frac{1}{2}  } = \\frac{1}{2} \\pstate{00} + \\frac{1}{2} \\pstate{11} $."
   ]
  },
  {
   "cell_type": "markdown",
   "metadata": {},
   "source": [
    "<a id=\"task4\"></a>\n",
    "<h3> Task 4 </h3>\n",
    "\n",
    "Покажите, что невозможно написать $ \\myvector{ \\frac{1}{2} \\\\ 0 \\\\ 0 \\\\ \\frac{1}{2} } $ как $ \\myvector{a\\\\b} \\otimes \\myvector{c\\\\d} $ для некоторых чисел $ a,b,c,$ и $d $.\n",
    "\n",
    "<i>Заметим, что корреляция в общем случае может быть показана не так просто, как в этом базовом примере. </i>"
   ]
  },
  {
   "cell_type": "markdown",
   "metadata": {},
   "source": [
    "<h3>Solution</h3>\n",
    "\n",
    " $ \\myvector{a\\\\b} \\otimes \\myvector{c\\\\d} = \\myvector{ a  \\myvector{c\\\\d}  \\\\ b  \\myvector{c\\\\d}  } = \\myvector{ ac \\\\ ad \\\\ bc \\\\ bd } $. \n",
    " \n",
    "Так как $ ac = \\frac{1}{2} $, мы можем заключить, что $a$ и $c$ - ненулевые числа.\n",
    "\n",
    "Так как $ bd = \\frac{1}{2} $, мы можем заключить, что $b$ и $d$ - ненулевые числа.\n",
    "\n",
    "Таким образом, $ ad $ и $ bc $ также ненулевые числа. \n",
    "\n",
    "Но это - противоречие: $ \\myvector{ ac \\\\ ad \\\\ bc \\\\ bd } = \\myvector{\\frac{1}{2} \\\\ 0 \\\\ 0 \\\\ \\frac{1}{2}} $, и поэтому $ ad $ и $ bc $ должны быть нулями.\n"
   ]
  },
  {
   "cell_type": "markdown",
   "metadata": {},
   "source": [
    "<a id=\"task7\"></a>\n",
    "<h3> Task 7 </h3>\n",
    "\n",
    "Вычислите новое состояние составленной системы, определенное по трем битам после оператора CNOT, определенного в Task 5 или Task 6.\n",
    "\n",
    "$ \\frac{1}{2} \\pstate{000} + \\frac{1}{2} \\pstate{110} \\rightarrow ? $"
   ]
  },
  {
   "cell_type": "markdown",
   "metadata": {},
   "source": [
    "<h3>Solution</h3>\n",
    "\n",
    "\n",
    "$ \\frac{1}{2} \\pstate{000} + \\frac{1}{2} \\pstate{\\mathbf{\\color{red}{1}}1\\mathbf{\\color{blue}{0}}} \\rightarrow \\frac{1}{2} \\pstate{000} + \\frac{1}{2}\\pstate{\\mathbf{\\color{red}{1}}1\\mathbf{\\color{blue}{1}}} $."
   ]
  },
  {
   "cell_type": "markdown",
   "metadata": {},
   "source": [
    "<a id=\"task8\"></a>\n",
    "<h3> Task 8 </h3>\n",
    "\n",
    "Предположим, что Дарья имеет 10 центов в состоянии 1, и ее монета также комбинирована с составной системой.\n",
    "\n",
    "Каково состояние новой составной системы?\n",
    "\n",
    "Затем оператор CNOT применяется к монете Кюри и монете Дарьи, где монета Кюри является контрольным битом.\n",
    "\n",
    "Каково новое состояние составной системы после этого оператора CNOT?\n",
    "\n",
    "<i>Обратите внимание, что корреляция с новым битом может быть создана путем применения CNOT-гейта между любым битом, уже находящимся в корреляции, и новым битом, где новый бит является целевым.</i>"
   ]
  },
  {
   "cell_type": "markdown",
   "metadata": {},
   "source": [
    "<h3>Solution</h3>\n",
    "\n",
    "Состояние новой составной системы:\n",
    "\n",
    "$ \\mypar{ \\frac{1}{2} \\pstate{000} + \\frac{1}{2} \\pstate{111} } \\otimes \\pstate{1} = \\frac{1}{2} \\pstate{0001} + \\frac{1}{2} \\pstate{1111}  $.\n",
    "\n",
    "\n",
    "После применения CNOT, определенного на третьем бите (контролирующий - control) и четвертом бите (целевой - target):\n",
    "\n",
    "$ \\frac{1}{2} \\pstate{0001} + \\frac{1}{2} \\pstate{11\\mathbf{\\color{red}{1}}\\mathbf{\\color{blue}{1}}} \\rightarrow \\frac{1}{2} \\pstate{0001} + \\frac{1}{2}\\pstate{11\\mathbf{\\color{red}{1}}\\mathbf{\\color{blue}{0}}} $.\n",
    "\n",
    "Теперь все четыре бита коррелируют. Видя состояние любого бита, мы можем узнать состояние других битов."
   ]
  }
 ],
 "metadata": {
  "kernelspec": {
   "display_name": "Python 3 (ipykernel)",
   "language": "python",
   "name": "python3"
  },
  "language_info": {
   "codemirror_mode": {
    "name": "ipython",
    "version": 3
   },
   "file_extension": ".py",
   "mimetype": "text/x-python",
   "name": "python",
   "nbconvert_exporter": "python",
   "pygments_lexer": "ipython3",
   "version": "3.11.6"
  }
 },
 "nbformat": 4,
 "nbformat_minor": 4
}
